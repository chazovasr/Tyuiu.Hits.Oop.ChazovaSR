{
 "cells": [
  {
   "cell_type": "markdown",
   "metadata": {},
   "source": [
    "Review 4"
   ]
  },
  {
   "cell_type": "code",
   "execution_count": null,
   "metadata": {},
   "outputs": [
    {
     "name": "stdout",
     "output_type": "stream",
     "text": [
      "Список поставщиков:\n",
      "Логистический центр - Стоимость услуг: 100000\n",
      "Поставщик IT-оборудования - Стоимость услуг: 150000\n",
      "\n",
      "Список сотрудников:\n",
      "Шашуков Даниил - Должность: Менеджер - Зарплата: 65000\n",
      "Анна Саранди - Должность: Разработчик - Зарплата: 95000\n",
      "\n",
      "Общие расходы: 250000\n"
     ]
    }
   ],
   "source": [
    "public interface IEnterprise \n",
    "{ \n",
    "    void AddSupplier(ISupplier supplier); \n",
    "    void AddEmployee(IEmployee employee); \n",
    "    List<ISupplier> GetSuppliers(); \n",
    "    decimal CalculateTotalExpenses(); \n",
    "} \n",
    " \n",
    "public interface ISupplier \n",
    "{ \n",
    "    string GetName(); \n",
    "    decimal GetCost(); \n",
    "    SupplierType Type { get; set; } \n",
    "} \n",
    " \n",
    "public interface IEmployee \n",
    "{ \n",
    "    string GetFullName(); \n",
    "    decimal GetSalary(); \n",
    "    string Position { get; set; } \n",
    "} \n",
    " \n",
    "public enum SupplierType \n",
    "{ \n",
    "    Logistics, \n",
    "    OfficeEquipment, \n",
    "    ITEquipment \n",
    "} \n",
    "public class Enterprise : IEnterprise \n",
    "{ \n",
    "    public List<ISupplier> _suppliers = new List<ISupplier>(); \n",
    "    public List<IEmployee> _employees = new List<IEmployee>(); \n",
    " \n",
    "    public void AddSupplier(ISupplier supplier) \n",
    "    { \n",
    "        _suppliers.Add(supplier); \n",
    "    } \n",
    " \n",
    "    public void AddEmployee(IEmployee employee) \n",
    "    { \n",
    "        _employees.Add(employee); \n",
    "    } \n",
    " \n",
    "    public List<ISupplier> GetSuppliers() \n",
    "    { \n",
    "        return _suppliers; \n",
    "    } \n",
    " \n",
    "    public decimal CalculateTotalExpenses() \n",
    "    { \n",
    "        return _suppliers.Sum(s => s.GetCost()); \n",
    "    } \n",
    "} \n",
    " \n",
    "public class Supplier : ISupplier \n",
    "{ \n",
    "    public string Name { get; set; } \n",
    "    public decimal Cost { get; set; } \n",
    "    public SupplierType Type { get; set; } \n",
    " \n",
    "    public string GetName() => Name; \n",
    "    public decimal GetCost() => Cost; \n",
    "} \n",
    " \n",
    "public class Employee : IEmployee \n",
    "{ \n",
    "    public string FullName { get; set; } \n",
    "    public decimal Salary { get; set; } \n",
    "    public string Position { get; set; } \n",
    " \n",
    "    public string GetFullName() => FullName; \n",
    "    public decimal GetSalary() => Salary; \n",
    "} \n",
    "var enterprise = new Enterprise(); \n",
    " \n",
    "// Добавление поставщиков \n",
    "enterprise.AddSupplier(new Supplier { Name = \"Логистический центр\", Cost = 100000m, Type = SupplierType.Logistics }); \n",
    "enterprise.AddSupplier(new Supplier { Name = \"Поставщик IT-оборудования\", Cost = 150000m, Type = SupplierType.OfficeEquipment }); \n",
    " \n",
    "        // Добавление сотрудников \n",
    "enterprise.AddEmployee(new Employee { FullName = \"Шашуков Даниил\", Salary = 65000m, Position = \"Менеджер\" }); \n",
    "enterprise.AddEmployee(new Employee { FullName = \"Анна Саранди\", Salary = 95000m, Position = \"Разработчик\" }); \n",
    " \n",
    "        // Вывод списка поставщиков и сотрудников \n",
    "Console.WriteLine(\"Список поставщиков:\"); \n",
    "foreach (var supplier in enterprise.GetSuppliers()) \n",
    "    { \n",
    "        Console.WriteLine($\"{supplier.GetName()} - Стоимость услуг: {supplier.GetCost()}\"); \n",
    "    } \n",
    " \n",
    "Console.WriteLine(\"\\nСписок сотрудников:\"); \n",
    "    foreach (var employee in enterprise._employees) \n",
    "    { \n",
    "        Console.WriteLine($\"{employee.GetFullName()} - Должность: {employee.Position} - Зарплата: {employee.GetSalary()}\"); \n",
    "    } \n",
    " \n",
    "        // Вычисление общих расходов \n",
    "decimal totalExpenses = enterprise.CalculateTotalExpenses(); \n",
    "Console.WriteLine($\"\\nОбщие расходы: {totalExpenses}\");"
   ]
  }
 ],
 "metadata": {
  "kernelspec": {
   "display_name": ".NET (C#)",
   "language": "C#",
   "name": ".net-csharp"
  },
  "polyglot_notebook": {
   "kernelInfo": {
    "defaultKernelName": "csharp",
    "items": [
     {
      "aliases": [],
      "languageName": "csharp",
      "name": "csharp"
     }
    ]
   }
  }
 },
 "nbformat": 4,
 "nbformat_minor": 2
}
