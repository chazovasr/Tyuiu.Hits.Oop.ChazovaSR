{
 "cells": [
  {
   "cell_type": "markdown",
   "metadata": {},
   "source": [
    "<h1 style=\"color:DodgerBlue\">Индивидальный проект</h1>"
   ]
  },
  {
   "cell_type": "markdown",
   "metadata": {},
   "source": [
    "<h2 style=\"color:DodgerBlue\">Название проекта:</h2>\n",
    "\n",
    "----\n",
    "\n",
    "### Вариант задания № 12\n"
   ]
  },
  {
   "cell_type": "markdown",
   "metadata": {},
   "source": [
    "<h2 style=\"color:DodgerBlue\">Описание проекта:</h2>\n",
    "\n",
    "----\n",
    "\n",
    "Описание задачи:\n",
    "\n",
    "Создать базовый класс Item в C#, который будет представлять информацию о\n",
    "товарах, которые могут быть заказаны или возвращены. На основе этого класса\n",
    "разработать 2-3 производных класса, демонстрирующих принципы наследования и\n",
    "полиморфизма. В каждом из классов должны быть реализованы новые атрибуты и\n",
    "методы, а также переопределены некоторые методы базового класса для\n",
    "демонстрации полиморфизма.\n",
    "\n",
    "Требования к базовому классу Item:\n",
    "\n",
    "• Атрибуты: ID товара (ItemId), Название (Name), Цена (Price).\n",
    "\n",
    "• Методы:\n",
    "\n",
    "o GetDetails(): метод для получения детальной информации о товаре.\n",
    "\n",
    "o CalculateDiscount(): метод для расчета скидки на товар.\n",
    "\n",
    "o ApplyDiscount(decimal discount): метод для применения скидки к цене\n",
    "товара.\n",
    "\n",
    "#### Дополнительное задание\n",
    "Добавьте к сущестующим классам (базовыму и производным 3-4 атрибута и метода) создайте явную реализации интерфейса и управление зависимостями \n"
   ]
  },
  {
   "cell_type": "markdown",
   "metadata": {},
   "source": [
    "<h2 style=\"color:DodgerBlue\">Реализация:</h2>\n",
    "\n",
    "----"
   ]
  },
  {
   "cell_type": "code",
   "execution_count": null,
   "metadata": {
    "dotnet_interactive": {
     "language": "csharp"
    },
    "polyglot_notebook": {
     "kernelName": "csharp"
    }
   },
   "outputs": [],
   "source": []
  }
 ],
 "metadata": {
  "kernelspec": {
   "display_name": ".NET (C#)",
   "language": "C#",
   "name": ".net-csharp"
  },
  "polyglot_notebook": {
   "kernelInfo": {
    "defaultKernelName": "csharp",
    "items": [
     {
      "aliases": [],
      "languageName": "csharp",
      "name": "csharp"
     }
    ]
   }
  }
 },
 "nbformat": 4,
 "nbformat_minor": 2
}
